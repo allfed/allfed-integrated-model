{
 "cells": [
  {
   "cell_type": "markdown",
   "id": "271623b5",
   "metadata": {},
   "source": [
    "<a href=\"https://colab.research.google.com/github/allfed/CropOpt/blob/standardize/scripts/creating_your_own_scenario.ipynb\" target=\"_parent\"><img src=\"https://colab.research.google.com/assets/colab-badge.svg\" alt=\"Open In Colab\"/></a>\n",
    "\n"
   ]
  },
  {
   "cell_type": "markdown",
   "id": "672fd3b5",
   "metadata": {},
   "source": [
    "# Intro\n",
    "This notebook is supposed to show you how scenarios are created with this integrated model and show you to make your own. In this case here we want to run the model on a global scale and with no resilient foods. \n",
    "\n",
    "\n",
    "The first thing we have to do is to get the repository and install it. "
   ]
  },
  {
   "cell_type": "code",
   "execution_count": null,
   "id": "8742e273",
   "metadata": {},
   "outputs": [],
   "source": [
    "import sys\n",
    "import os\n",
    "if 'google.colab' in sys.modules:\n",
    "    # Get the repository and install everything if you are running this from a Colab notebook.\n",
    "    !pip install git+https://github.com/allfed/allfed-integrated-model.git\n",
    "    !pip install python-pptx\n",
    "    !pip install pulp\n",
    "else:\n",
    "    # If you are running this locally you should install the dependencies in your own virtual environment.\n",
    "    # change to the directory where the package is located and install it\n",
    "    os.chdir(\"..\")\n",
    "    !pip install -e ."
   ]
  },
  {
   "cell_type": "markdown",
   "id": "62397bb9",
   "metadata": {},
   "source": [
    "## Importing things\n",
    "The model relies on a collection of external packages and internal classes that organize that code. Most important for us now are:\n",
    "* Scenarios class: this is were all the parameters are stored and loaded for a given scenario\n",
    "* ScenarioRunner class: this takes the newly created scenario and optimizes it \n",
    "* Plotter: plots the results of a scenario"
   ]
  },
  {
   "cell_type": "code",
   "execution_count": null,
   "id": "012e19e5",
   "metadata": {},
   "outputs": [],
   "source": [
    "import numpy as np\n",
    "from src.utilities.plotter import Plotter\n",
    "from src.scenarios.run_scenario import ScenarioRunner\n",
    "from src.scenarios.scenarios import Scenarios\n",
    "import git\n",
    "from pathlib import Path\n",
    "\n",
    "repo_root = git.Repo(\".\", search_parent_directories=True).working_dir"
   ]
  },
  {
   "cell_type": "markdown",
   "id": "b5c20b19",
   "metadata": {},
   "source": [
    "## Filling the scenario with the fitting parameter values\n",
    "We start by getting all the constant values from our scenario. This includes things like how many grass there is at the beginning of the simulation or what nutrition profile we want to use. The Scenarios class contains a wide variety of possible assumptions that can be used to create your own scenario. If you want to have your own, specific scenario assumptions you either have write them yourselve or create an issue in the repository of this model. "
   ]
  },
  {
   "cell_type": "code",
   "execution_count": null,
   "id": "e02e4eca",
   "metadata": {},
   "outputs": [],
   "source": [
    "# This is needed to save all the constants\n",
    "constants = {}\n",
    "constants[\"CHECK_CONSTRAINTS\"] = False\n",
    "scenarios_loader = Scenarios()\n",
    "\n",
    "constants_for_params = scenarios_loader.init_global_food_system_properties()\n",
    "\n",
    "constants_for_params = scenarios_loader.get_no_resilient_food_scenario(\n",
    "    constants_for_params\n",
    ")\n",
    "\n",
    "constants_for_params = scenarios_loader.set_excess_to_zero(constants_for_params)\n",
    "\n",
    "constants_for_params = scenarios_loader.set_catastrophe_nutrition_profile(\n",
    "    constants_for_params\n",
    ")\n",
    "\n",
    "constants_for_params = scenarios_loader.set_global_seasonality_nuclear_winter(\n",
    "    constants_for_params\n",
    ")\n",
    "constants_for_params = scenarios_loader.set_global_grasses_nuclear_winter(\n",
    "    constants_for_params\n",
    ")\n",
    "constants_for_params = scenarios_loader.set_stored_food_buffer_zero(\n",
    "    constants_for_params\n",
    ")\n",
    "constants_for_params = scenarios_loader.set_efficient_feed_grazing_strategy(\n",
    "    constants_for_params\n",
    ")\n",
    "\n",
    "constants_for_params = scenarios_loader.set_fish_nuclear_winter_reduction(\n",
    "    constants_for_params\n",
    ")\n",
    "constants_for_params = scenarios_loader.include_protein(constants_for_params)\n",
    "\n",
    "constants_for_params = scenarios_loader.include_fat(constants_for_params)\n",
    "constants_for_params = scenarios_loader.cull_animals(constants_for_params)\n",
    "\n",
    "constants_for_params = (\n",
    "    scenarios_loader.set_nuclear_winter_global_disruption_to_crops(\n",
    "        constants_for_params\n",
    "    )\n",
    ")\n",
    "constants_for_params = scenarios_loader.set_immediate_shutoff(constants_for_params)\n",
    "\n",
    "constants_for_params = scenarios_loader.set_waste_to_zero(constants_for_params)\n"
   ]
  },
  {
   "cell_type": "markdown",
   "id": "27f3c396",
   "metadata": {},
   "source": [
    "## Optimizing the scenario\n",
    "The main point of the integrated model is to assess how food sources have to be upscaled and distributed in time to make sure that there is enough food for everyone. To do this the model does a linear optimization of all available food sources. "
   ]
  },
  {
   "cell_type": "code",
   "execution_count": null,
   "id": "f19264a5",
   "metadata": {},
   "outputs": [],
   "source": [
    "    scenario_runner = ScenarioRunner()\n",
    "    results = scenario_runner.run_and_analyze_scenario(\n",
    "        constants_for_params, scenarios_loader\n",
    "    )\n",
    "\n",
    "    print(\"\")\n",
    "    print(\"\")\n",
    "    print(\"Estimated percet people fed, no resilient foods, no waste\")\n",
    "    print(results.percent_people_fed / 100 * 2100)\n",
    "    print(\"\")\n",
    "\n",
    "    np.save(\n",
    "        Path(repo_root) / \"data\" / \"no_resilient_food_primary_results.npy\",\n",
    "        results,\n",
    "        allow_pickle=True,\n",
    "    )"
   ]
  },
  {
   "cell_type": "markdown",
   "id": "4e9d5104",
   "metadata": {},
   "source": [
    "This shows us that in the given configuration the ressources we have would easily feed everyone. Let's plot the results to see how the optimized food use looks like. "
   ]
  },
  {
   "cell_type": "code",
   "execution_count": null,
   "id": "e6dfcff4",
   "metadata": {},
   "outputs": [],
   "source": [
    "Plotter.plot_fig_1ab(\n",
    "    results,\n",
    "    77,\n",
    "    \"World\",\n",
    "    True,\n",
    "    False,\n",
    "    scenarios_loader.scenario_description,\n",
    ")"
   ]
  },
  {
   "cell_type": "markdown",
   "id": "a75ee405",
   "metadata": {},
   "source": [
    "We see that in that case outdoor crops and the later years meat would be most important for food production. We can also see that all macronutrients would be sufficient. \n",
    "\n",
    "Now try your own model :)\n",
    "\n",
    "If you have any question contact morgan@allfed.info"
   ]
  }
 ],
 "metadata": {
  "kernelspec": {
   "display_name": "Python 3.9.12 ('integrated_model')",
   "language": "python",
   "name": "python3"
  },
  "language_info": {
   "codemirror_mode": {
    "name": "ipython",
    "version": 3
   },
   "file_extension": ".py",
   "mimetype": "text/x-python",
   "name": "python",
   "nbconvert_exporter": "python",
   "pygments_lexer": "ipython3",
   "version": "3.9.12"
  },
  "vscode": {
   "interpreter": {
    "hash": "a3d32962f2d660533f914af3c1b70388b3152d1e0a193e7f971f3742f17c9a74"
   }
  }
 },
 "nbformat": 4,
 "nbformat_minor": 5
}
