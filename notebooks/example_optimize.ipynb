{
 "cells": [
  {
   "cell_type": "markdown",
   "metadata": {
    "colab_type": "text",
    "id": "view-in-github"
   },
   "source": [
    "<a href=\"https://colab.research.google.com/github/allfed/CropOpt/blob/standardize/notebooks/yield_demo.ipynb\" target=\"_parent\"><img src=\"https://colab.research.google.com/assets/colab-badge.svg\" alt=\"Open In Colab\"/></a>"
   ]
  },
  {
   "cell_type": "markdown",
   "metadata": {
    "id": "EF4HZ38K9CWc"
   },
   "source": [
    "# Setup (only run this section if using Colab)"
   ]
  },
  {
   "cell_type": "code",
   "execution_count": null,
   "metadata": {
    "id": "IzDrJNUQ7OMm",
    "scrolled": true
   },
   "outputs": [],
   "source": [
    "# We must clone the code repo into your Colab environment in order to use it.\n",
    "# To do this we must first connect your GitHub account via this online command line.\n",
    "# Run this block, and hit Enter on each prompt, not entering any text.\n",
    "# This generates an SSH key which you'll add to your GitHub account.\n",
    "!ssh-keygen -t rsa -b 4096"
   ]
  },
  {
   "cell_type": "code",
   "execution_count": null,
   "metadata": {
    "id": "dCB7z9UI8qpo"
   },
   "outputs": [],
   "source": [
    "!ssh-keyscan -t rsa github.com >> /root/.ssh/known_hosts"
   ]
  },
  {
   "cell_type": "code",
   "execution_count": null,
   "metadata": {
    "id": "0vBrKY4E7YcJ"
   },
   "outputs": [],
   "source": [
    "# This line prints the key. Copy the key to your clipboard.\n",
    "!cat /root/.ssh/id_rsa.pub"
   ]
  },
  {
   "cell_type": "code",
   "execution_count": null,
   "metadata": {
    "id": "lUAL7sgQ7YP2"
   },
   "outputs": [],
   "source": [
    "# Now, navigate to https://github.com/settings/keys and click \"New SSH key\"\n",
    "# Copy paste the above into the \"Key\" field, and give it a title, e.g. \"Colab key\",\n",
    "# then save the key. Once done, test using this line:\n",
    "!ssh -T git@github.com"
   ]
  },
  {
   "cell_type": "code",
   "execution_count": null,
   "metadata": {
    "id": "LfMd3MDk68Ao"
   },
   "outputs": [],
   "source": [
    "## Now we can clone the repo using SSH\n",
    "!rm -rf CropOpt/\n",
    "!git clone -b standardize git@github.com:allfed/allfed-integrated-model.git"
   ]
  },
  {
   "cell_type": "code",
   "execution_count": null,
   "metadata": {
    "id": "kIbtwVp1Epqf"
   },
   "outputs": [],
   "source": [
    "# This adds the Python files in our CropOpt repo to our path so we can import\n",
    "# them\n",
    "\n",
    "import os\n",
    "import sys\n",
    "\n",
    "module_path = os.path.abspath(os.path.join('./CropOpt'))\n",
    "if module_path not in sys.path:\n",
    "    sys.path.append(module_path) "
   ]
  },
  {
   "cell_type": "code",
   "execution_count": null,
   "metadata": {
    "id": "t5cQ7Vpu-okC"
   },
   "outputs": [],
   "source": [
    "# Now we'll install other dependencies from our Poetry file. We do this by first\n",
    "# installing the toml package so we can read the pyproject.toml file\n",
    "!pip install toml"
   ]
  },
  {
   "cell_type": "code",
   "execution_count": null,
   "metadata": {
    "id": "7FWKkIMMMJ6j"
   },
   "outputs": [],
   "source": [
    "# We then load the file and read our required packages from it\n",
    "import toml\n",
    "config = toml.load(\"CropOpt/pyproject.toml\")\n",
    "pip_packages = config[\"tool\"][\"poetry\"][\"dependencies\"]"
   ]
  },
  {
   "cell_type": "code",
   "execution_count": null,
   "metadata": {
    "id": "_6m7JHEANNcK"
   },
   "outputs": [],
   "source": [
    "# Finally, we install the packages\n",
    "\n",
    "import subprocess\n",
    "import sys\n",
    "\n",
    "def install_pip_package(package, version):\n",
    "    subprocess.check_call([sys.executable, \"-m\", \"pip\", \"install\", f\"{package}=={version}\"])\n",
    "\n",
    "for package, version in pip_packages.items():\n",
    "    if package == \"python\":\n",
    "        continue\n",
    "    install_pip_package(package, version[1:])"
   ]
  },
  {
   "cell_type": "markdown",
   "metadata": {},
   "source": [
    "# End of Colab-specific setup"
   ]
  },
  {
   "cell_type": "markdown",
   "metadata": {
    "id": "_0qfpqXB4b_j"
   },
   "source": [
    "# Optimizer calculation demo"
   ]
  },
  {
   "cell_type": "markdown",
   "metadata": {
    "id": "EEL1Pg_54jfe"
   },
   "source": [
    "The purpose of this file is to . Please reach out to morgan@allfed.info if you have questions about this code.\n",
    "\n",
    "First, let's import the Optimizer, which runs through the code to optimize the minimum people fed of calories, fat, and protein. "
   ]
  },
  {
   "cell_type": "code",
   "execution_count": 1,
   "metadata": {
    "id": "KuZI2xuaP3Dh"
   },
   "outputs": [],
   "source": [
    "import os\n",
    "import sys\n",
    "module_path = os.path.abspath(os.path.join('..'))\n",
    "if module_path not in sys.path:\n",
    "    sys.path.append(module_path)"
   ]
  },
  {
   "cell_type": "code",
   "execution_count": 6,
   "metadata": {
    "id": "WLnjHxAy4JPE"
   },
   "outputs": [],
   "source": [
    "from src.optimizer import Optimizer"
   ]
  },
  {
   "cell_type": "markdown",
   "metadata": {
    "id": "ryY13Hp0P3Di"
   },
   "source": [
    "Now, let's import a bunch of previously created geopandas datasets"
   ]
  },
  {
   "cell_type": "code",
   "execution_count": 7,
   "metadata": {
    "id": "9-N4WzdX6vmc"
   },
   "outputs": [],
   "source": [
    "\n",
    "constants = {}\n",
    "constants['inputs'] = {}\n",
    "\n",
    "constants['inputs']['NMONTHS'] = 24\n",
    "constants['inputs']['LIMIT_SEAWEED_AS_PERCENT_KCALS'] = True\n",
    "\n",
    "constants['inputs']['ASSUMED_WASTE_PERCENT'] = 35\n",
    "constants['inputs']['ASSUMED_WASTE_PERCENT_M1'] = 35\n",
    "constants['inputs']['ASSUMED_WASTE_PERCENT_AFTER_M1'] = 30\n",
    "# constants['inputs']['ALL_BIOFUEL'] = 22e6#tons dry caloric equivalent\n",
    "constants['inputs']['M1_ADDITIONAL_WASTE'] = 5e9/12#tons dry caloric equivalent\n",
    "# constants['inputs']['KCALS_DAILY'] = 2100#(1800+2700)/2 #kcals per person per day\n",
    "# constants['inputs']['FAT_DAILY'] = (35+70)/2 #grams per person per day\n",
    "# constants['inputs']['PROTEIN_DAILY'] = (51+78.75)/2 #grams per person per day\n",
    "constants['inputs']['NUTRITION']={}\n",
    "constants['inputs']['NUTRITION']['KCALS_DAILY'] = 2100 #kcals per person per day\n",
    "constants['inputs']['NUTRITION']['FAT_DAILY'] = 35 #grams per person per day\n",
    "constants['inputs']['NUTRITION']['PROTEIN_DAILY'] = 51 #grams per person per day\n",
    "\n",
    "constants['inputs']['INITIAL_MILK_COWS'] = 264e6\n",
    "constants['inputs']['MAX_SEAWEED_AS_PERCENT_KCALS'] = 30\n",
    "constants['inputs']['INIT_SMALL_ANIMALS'] = 28.2e9\n",
    "constants['inputs']['INIT_MEDIUM_ANIMALS'] = 3.2e9\n",
    "constants['inputs']['INIT_LARGE_ANIMALS'] = 1.9e9\n",
    "constants['inputs']['HARVEST_LOSS'] = 15 # percent (seaweed)\n",
    "constants['inputs']['INITIAL_SEAWEED'] = 1 # 1000 tons (seaweed)\n",
    "constants['inputs']['INITIAL_AREA'] = 1 # 1000 tons (seaweed)\n",
    "constants['inputs']['NEW_AREA_PER_DAY'] = 4.153 # 1000 km^2 (seaweed)\n",
    "constants['inputs']['MINIMUM_DENSITY'] = 400 #tons/km^2 (seaweed)\n",
    "constants['inputs']['MAXIMUM_DENSITY'] = 4000 #tons/km^2 (seaweed)\n",
    "constants['inputs']['MAXIMUM_AREA'] = 1000 # 1000 km^2 (seaweed)\n",
    "constants['inputs']['SEAWEED_PRODUCTION_RATE'] = 10 # percent (seaweed)\n",
    "constants['inputs']['TONS_DRY_CALORIC_EQIVALENT_SF'] = 1602542*1000.\n",
    "constants['inputs']['INITIAL_SF_PROTEIN'] = 203607 #1000 tons protein per unit mass initial\n",
    "constants['inputs']['INITIAL_SF_FAT'] = 63948 # 1000 tons fat per unit mass initial\n",
    "constants['inputs']['GREENHOUSE_FAT_MULTIPLIER'] = 2\n",
    "constants['CHECK_CONSTRAINTS'] = False\n",
    "constants['inputs']['RATIO_KCALS_POSTDISASTER']={}\n",
    "constants['inputs']['RATIO_KCALS_POSTDISASTER']['Y1'] = 0.4\n",
    "constants['inputs']['RATIO_KCALS_POSTDISASTER']['Y2'] = 0.2\n",
    "constants['inputs']['RATIO_KCALS_POSTDISASTER']['Y3'] = 0.2\n",
    "constants['inputs']['RATIO_KCALS_POSTDISASTER']['Y4'] = 0.2\n",
    "constants['inputs']['DAIRY_PRODUCTION'] = 0.5\n",
    "constants['inputs']['GREENHOUSE_FAT_MULTIPLIER'] = 2\n",
    "constants['inputs']['GREENHOUSE_SLOPE_MULTIPLIER'] = 1\n",
    "constants['inputs']['OUTDOOR_GROWING_SLOPE_MULTIPLIER'] = 1\n",
    "constants['inputs']['OUTDOOR_GROWING_FAT_MULTIPLIER'] = 1\n",
    "constants['inputs']['CELLULOSIC_SUGAR_SLOPE_MULTIPLIER'] = 1\n",
    "\n",
    "\n",
    "constants['inputs']['ADD_FISH'] = True\n",
    "constants['inputs']['ADD_SEAWEED'] = True\n",
    "constants['inputs']['ADD_CELLULOSIC_SUGAR'] = True\n",
    "constants['inputs']['ADD_GREENHOUSES'] = True\n",
    "constants['inputs']['ADD_NONEGG_NONDAIRY_MEAT'] = True\n",
    "constants['inputs']['ADD_DAIRY'] = True\n",
    "constants['inputs']['ADD_STORED_FOOD'] = True\n",
    "constants['inputs']['ADD_OUTDOOR_GROWING'] = True"
   ]
  },
  {
   "cell_type": "code",
   "execution_count": 8,
   "metadata": {
    "id": "_hGc6jDBP3Dl"
   },
   "outputs": [
    {
     "name": "stderr",
     "output_type": "stream",
     "text": [
      "/home/dmrivers/.cache/pypoetry/virtualenvs/allfed-integrated-model-KHCin7Rg-py3.7/lib/python3.7/site-packages/pulp/apis/coin_api.py:87: UserWarning: Parameter fracGap is being depreciated for gapRel\n",
      "  warnings.warn(\"Parameter fracGap is being depreciated for gapRel\")\n"
     ]
    },
    {
     "name": "stdout",
     "output_type": "stream",
     "text": [
      "max fed\n",
      "12.240079\n"
     ]
    }
   ],
   "source": [
    "optimizer = Optimizer()\n",
    "max_fed=optimizer.optimize(constants)\n",
    "\n",
    "print('max fed')\n",
    "print(max_fed)"
   ]
  },
  {
   "cell_type": "code",
   "execution_count": null,
   "metadata": {},
   "outputs": [],
   "source": []
  }
 ],
 "metadata": {
  "colab": {
   "include_colab_link": true,
   "name": "yield_demo.ipynb",
   "provenance": []
  },
  "kernelspec": {
   "display_name": "Python 3 (ipykernel)",
   "language": "python",
   "name": "python3"
  },
  "language_info": {
   "codemirror_mode": {
    "name": "ipython",
    "version": 3
   },
   "file_extension": ".py",
   "mimetype": "text/x-python",
   "name": "python",
   "nbconvert_exporter": "python",
   "pygments_lexer": "ipython3",
   "version": "3.7.3"
  }
 },
 "nbformat": 4,
 "nbformat_minor": 1
}
