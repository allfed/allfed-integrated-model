{
 "cells": [
  {
   "cell_type": "markdown",
   "metadata": {
    "colab_type": "text",
    "id": "view-in-github"
   },
   "source": [
    "<a href=\"https://colab.research.google.com/github/allfed/CropOpt/blob/standardize/notebooks/yield_demo.ipynb\" target=\"_parent\"><img src=\"https://colab.research.google.com/assets/colab-badge.svg\" alt=\"Open In Colab\"/></a>"
   ]
  },
  {
   "cell_type": "markdown",
   "metadata": {
    "id": "EF4HZ38K9CWc"
   },
   "source": [
    "# These Instructions Are Only Needed The First Time You Setup CoLab"
   ]
  },
  {
   "cell_type": "code",
   "execution_count": null,
   "metadata": {
    "id": "LfMd3MDk68Ao"
   },
   "outputs": [],
   "source": [
    "!rm -rf allfed-integrated-model/\n",
    "!git clone -b main https://github.com/allfed/allfed-integrated-model.git"
   ]
  },
  {
   "cell_type": "code",
   "execution_count": null,
   "metadata": {
    "id": "kIbtwVp1Epqf"
   },
   "outputs": [],
   "source": [
    "# This adds the Python files in our repo to our path so we can import\n",
    "# them\n",
    "\n",
    "import os\n",
    "import sys\n",
    "\n",
    "module_path = os.path.abspath(os.path.join('..'))\n",
    "if module_path not in sys.path:\n",
    "    sys.path.append(module_path) "
   ]
  },
  {
   "cell_type": "code",
   "execution_count": null,
   "metadata": {
    "id": "7FWKkIMMMJ6j"
   },
   "outputs": [],
   "source": [
    "!pip install PuLP\n",
    "!pip install numpy\n",
    "!pip install matplotlib\n"
   ]
  },
  {
   "cell_type": "markdown",
   "metadata": {
    "id": "_0qfpqXB4b_j"
   },
   "source": [
    "# Optimizer demo"
   ]
  },
  {
   "cell_type": "markdown",
   "metadata": {
    "id": "EEL1Pg_54jfe"
   },
   "source": [
    "The purpose of this file is to allow researchers to run the optimizer with differing assumptions. Please reach out to morgan@allfed.info if you have questions about this code.\n",
    "\n",
    "This will publish all graphs accessible in the recently submitted paper.\n",
    "\n",
    "First, let's import the Optimizer, which runs through the code to optimize the minimum people fed of calories, fat, and protein. "
   ]
  },
  {
   "cell_type": "code",
   "execution_count": 1,
   "metadata": {
    "id": "KuZI2xuaP3Dh",
    "scrolled": true
   },
   "outputs": [
    {
     "name": "stdout",
     "output_type": "stream",
     "text": [
      "/home/dmrivers/Code/allfed-integrated-model\n"
     ]
    }
   ],
   "source": [
    "import os\n",
    "import sys\n",
    "os.chdir('/content/allfed-integrated-model/notebooks/')\n",
    "module_path = os.path.abspath(os.path.join('..'))\n",
    "print(module_path)\n",
    "if module_path not in sys.path:\n",
    "    sys.path.append(module_path)\n",
    "import numpy as np"
   ]
  },
  {
   "cell_type": "markdown",
   "metadata": {
    "id": "ryY13Hp0P3Di"
   },
   "source": [
    "Now, we run the no resilient food case, generating the total food production with resilient foods."
   ]
  },
  {
   "cell_type": "code",
   "execution_count": 2,
   "metadata": {
    "id": "9-N4WzdX6vmc"
   },
   "outputs": [
    {
     "name": "stderr",
     "output_type": "stream",
     "text": [
      "/home/dmrivers/.local/lib/python3.9/site-packages/pulp/apis/coin_api.py:89: UserWarning: Parameter fracGap is being depreciated for gapRel\n",
      "  warnings.warn(\"Parameter fracGap is being depreciated for gapRel\")\n"
     ]
    },
    {
     "name": "stdout",
     "output_type": "stream",
     "text": [
      "\n",
      "Estimated people fed, no resilient foods, no waste\n",
      "7.2441166\n",
      "\n",
      "Estimated people fed, no resilient foods, minus waste & delayed halt of nonhuman consumption \n",
      "5.9240094\n",
      "\n"
     ]
    }
   ],
   "source": [
    "import src.run_model_no_resilient_foods"
   ]
  },
  {
   "cell_type": "markdown",
   "metadata": {},
   "source": [
    "Run the no resilient food case"
   ]
  },
  {
   "cell_type": "code",
   "execution_count": 3,
   "metadata": {},
   "outputs": [
    {
     "name": "stderr",
     "output_type": "stream",
     "text": [
      "/home/dmrivers/.local/lib/python3.9/site-packages/pulp/apis/coin_api.py:89: UserWarning: Parameter fracGap is being depreciated for gapRel\n",
      "  warnings.warn(\"Parameter fracGap is being depreciated for gapRel\")\n"
     ]
    },
    {
     "name": "stdout",
     "output_type": "stream",
     "text": [
      "\n",
      "no waste estimated people fed\n",
      "13.595705\n",
      "\n",
      "Food available after waste, feed ramp down and biofuel ramp down, with resilient foods\n",
      "11.3642\n",
      "\n",
      "Calculating 2100 calorie diet, excess feed to animals\n",
      "Diet computation complete\n"
     ]
    }
   ],
   "source": [
    "import src.run_model"
   ]
  },
  {
   "cell_type": "markdown",
   "metadata": {},
   "source": [
    "Run the baseline scenario"
   ]
  },
  {
   "cell_type": "code",
   "execution_count": 3,
   "metadata": {},
   "outputs": [
    {
     "name": "stderr",
     "output_type": "stream",
     "text": [
      "/home/dmrivers/.local/lib/python3.9/site-packages/pulp/apis/coin_api.py:89: UserWarning: Parameter fracGap is being depreciated for gapRel\n",
      "  warnings.warn(\"Parameter fracGap is being depreciated for gapRel\")\n"
     ]
    },
    {
     "name": "stdout",
     "output_type": "stream",
     "text": [
      "\n",
      "\n",
      "\n",
      "\n",
      "people_fed_billions\n",
      "16.352426\n",
      "\n",
      "\n",
      "\n",
      "\n",
      "\n",
      "\n",
      "\n",
      "\n",
      "people_fed_billions\n",
      "7.744541\n",
      "\n",
      "\n",
      "\n",
      "\n"
     ]
    }
   ],
   "source": [
    "import src.run_model_before_catastrophe"
   ]
  },
  {
   "cell_type": "markdown",
   "metadata": {},
   "source": [
    "Run the Monte Carlo scenarios. We choose the \"True\" value for run_all_scenarios, which loads existing data from the monte carlo and plots it."
   ]
  },
  {
   "cell_type": "code",
   "execution_count": 4,
   "metadata": {},
   "outputs": [
    {
     "name": "stderr",
     "output_type": "stream",
     "text": [
      "/home/dmrivers/.local/lib/python3.9/site-packages/statsmodels/compat/pandas.py:65: FutureWarning: pandas.Int64Index is deprecated and will be removed from pandas in a future version. Use pandas.Index with the appropriate dtype instead.\n",
      "  from pandas import Int64Index as NumericIndex\n"
     ]
    }
   ],
   "source": [
    "from src.monte_carlo import MonteCarlo"
   ]
  },
  {
   "cell_type": "code",
   "execution_count": 5,
   "metadata": {},
   "outputs": [
    {
     "name": "stderr",
     "output_type": "stream",
     "text": [
      "No artists with labels found to put in legend.  Note that artists whose label start with an underscore are ignored when legend() is called with no argument.\n"
     ]
    },
    {
     "name": "stdout",
     "output_type": "stream",
     "text": [
      "95% lower\n",
      "2372.5260986538465\n",
      "95% upper\n",
      "4182.760642307692\n"
     ]
    },
    {
     "name": "stderr",
     "output_type": "stream",
     "text": [
      "/home/dmrivers/.local/lib/python3.9/site-packages/seaborn/_decorators.py:36: FutureWarning: Pass the following variable as a keyword arg: x. From version 0.12, the only valid positional argument will be `data`, and passing other arguments without an explicit keyword will result in an error or misinterpretation.\n",
      "  warnings.warn(\n",
      "/home/dmrivers/Code/allfed-integrated-model/src/plotter.py:1460: UserWarning: This figure includes Axes that are not compatible with tight_layout, so results might be incorrect.\n",
      "  plt.tight_layout()\n"
     ]
    }
   ],
   "source": [
    "MonteCarlo.run_all_scenarios(10000, 1000, True)"
   ]
  },
  {
   "cell_type": "markdown",
   "metadata": {},
   "source": [
    "Import analysis data saved in previous runs, and plot the result for primary production"
   ]
  },
  {
   "cell_type": "code",
   "execution_count": 10,
   "metadata": {},
   "outputs": [],
   "source": [
    "from src.plotter import Plotter\n",
    "resilient_food_primary_production_analysis = np.load(\n",
    "    '../data/resilient_food_primary_analysis.npy',\n",
    "    allow_pickle=True).item()\n",
    "\n",
    "no_resilient_food_primary_production_analysis = np.load(\n",
    "    '../data/no_resilient_food_primary_analysis.npy',\n",
    "    allow_pickle=True).item()\n",
    "\n",
    "Plotter.plot_figure_supplement_primary_production_abcd(\n",
    "    resilient_food_primary_production_analysis,\n",
    "    no_resilient_food_primary_production_analysis,\n",
    "    48,\n",
    "    72)\n"
   ]
  },
  {
   "cell_type": "code",
   "execution_count": 11,
   "metadata": {},
   "outputs": [
    {
     "name": "stdout",
     "output_type": "stream",
     "text": [
      "/home/dmrivers/Code/allfed-integrated-model/notebooks\n"
     ]
    }
   ],
   "source": [
    "print(os.getcwd())\n"
   ]
  }
 ],
 "metadata": {
  "colab": {
   "include_colab_link": true,
   "name": "yield_demo.ipynb",
   "provenance": []
  },
  "kernelspec": {
   "display_name": "Python 3",
   "language": "python",
   "name": "python3"
  },
  "language_info": {
   "codemirror_mode": {
    "name": "ipython",
    "version": 3
   },
   "file_extension": ".py",
   "mimetype": "text/x-python",
   "name": "python",
   "nbconvert_exporter": "python",
   "pygments_lexer": "ipython3",
   "version": "3.9.2"
  }
 },
 "nbformat": 4,
 "nbformat_minor": 1
}
